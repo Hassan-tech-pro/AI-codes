{
 "cells": [
  {
   "cell_type": "markdown",
   "id": "45229e9c",
   "metadata": {},
   "source": [
    "# Math notebook for ML DL LLMs"
   ]
  },
  {
   "cell_type": "markdown",
   "id": "107cf62c",
   "metadata": {},
   "source": [
    "Short list of math to learn and quick formulas"
   ]
  },
  {
   "cell_type": "code",
   "execution_count": null,
   "id": "6aee4518",
   "metadata": {},
   "outputs": [],
   "source": [
    "import math\n",
    "\n",
    "# gradient example\n",
    "def grad_sigmoid(x):\n",
    "    s = 1 / (1 + math.exp(-x))\n",
    "    return s * (1 - s)\n",
    "\n",
    "print(grad_sigmoid(0.5))"
   ]
  },
  {
   "cell_type": "markdown",
   "id": "ae21767f",
   "metadata": {},
   "source": [
    "Topics\n",
    "\n",
    "1 linear algebra\n",
    "2 calculus\n",
    "3 probability and stats\n",
    "4 optimization\n",
    "\n",
    "Each topic has quick notes inside this file"
   ]
  }
 ],
 "metadata": {},
 "nbformat": 4,
 "nbformat_minor": 5
}
